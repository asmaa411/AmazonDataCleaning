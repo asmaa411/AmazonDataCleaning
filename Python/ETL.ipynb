{
 "cells": [
  {
   "cell_type": "code",
   "execution_count": 14,
   "metadata": {},
   "outputs": [],
   "source": [
    "\n",
    "from sqlalchemy import create_engine"
   ]
  },
  {
   "cell_type": "markdown",
   "metadata": {},
   "source": [
    "<h1>Connect to postgres<h1>"
   ]
  },
  {
   "cell_type": "code",
   "execution_count": 15,
   "metadata": {},
   "outputs": [],
   "source": [
    "from dotenv import load_dotenv\n",
    "import os\n",
    "\n",
    "load_dotenv('pwd.env')\n",
    "\n",
    "db_user = os.getenv('DB_USER')\n",
    "db_password = os.getenv('DB_PASSWORD')\n",
    "db_host = os.getenv(\"DB_HOST\")"
   ]
  },
  {
   "cell_type": "code",
   "execution_count": 16,
   "metadata": {},
   "outputs": [
    {
     "name": "stdout",
     "output_type": "stream",
     "text": [
      "connection was successful!\n"
     ]
    }
   ],
   "source": [
    "username = db_user\n",
    "password = db_password\n",
    "host = db_host\n",
    "port = '5433'\n",
    "database = 'Amazon_DWH'\n",
    "\n",
    "connection_string = f\"postgresql+psycopg2://{username}:{password}@{host}:{port}/{database}\"\n",
    "engine = create_engine(connection_string)\n",
    "\n",
    "try:\n",
    "    with engine.connect() as connection:\n",
    "        print(\"connection was successful!\")\n",
    "except Exception as e:\n",
    "    print(\"connection failed:\", e)"
   ]
  },
  {
   "cell_type": "markdown",
   "metadata": {},
   "source": [
    "<h1>Load Data To DWH<h1>"
   ]
  },
  {
   "cell_type": "code",
   "execution_count": 17,
   "metadata": {},
   "outputs": [
    {
     "data": {
      "text/plain": [
       "463"
      ]
     },
     "execution_count": 17,
     "metadata": {},
     "output_type": "execute_result"
    }
   ],
   "source": [
    "import pandas as pd\n",
    "Cleaned_amazon= pd.read_csv(r'D:\\Data engineer project.amazon\\Datasets\\Cleaned_amazon.csv')\n",
    "Cleaned_amazon.to_sql('amazon', engine, if_exists='replace', index = False, schema='public')"
   ]
  },
  {
   "cell_type": "code",
   "execution_count": 18,
   "metadata": {},
   "outputs": [
    {
     "data": {
      "text/plain": [
       "594"
      ]
     },
     "execution_count": 18,
     "metadata": {},
     "output_type": "execute_result"
    }
   ],
   "source": [
    "Cleaned_Delivery= pd.read_csv(r'D:\\Data engineer project.amazon\\Datasets\\Cleaned_Delivery.csv')\n",
    "Cleaned_Delivery.to_sql('amazon_delivery', engine, if_exists='replace', index = False, schema='public')"
   ]
  },
  {
   "cell_type": "code",
   "execution_count": 19,
   "metadata": {},
   "outputs": [
    {
     "data": {
      "text/plain": [
       "500"
      ]
     },
     "execution_count": 19,
     "metadata": {},
     "output_type": "execute_result"
    }
   ],
   "source": [
    "Cleaned_Prime_User= pd.read_csv(r'D:\\Data engineer project.amazon\\Datasets\\Cleaned_Prime_Users.csv')\n",
    "Cleaned_Prime_User.to_sql('amazon_prime_user', engine, if_exists='replace', index = False, schema='public')"
   ]
  },
  {
   "cell_type": "code",
   "execution_count": 33,
   "metadata": {},
   "outputs": [
    {
     "data": {
      "text/plain": [
       "143"
      ]
     },
     "execution_count": 33,
     "metadata": {},
     "output_type": "execute_result"
    }
   ],
   "source": [
    "Cleaned_Sale_Report= pd.read_csv(r'D:\\Data engineer project.amazon\\Datasets\\Cleaned_Sale_Report.csv')\n",
    "Cleaned_Sale_Report.to_sql('amazon_sale_report', engine, if_exists='replace', index = False, schema='public')"
   ]
  },
  {
   "cell_type": "markdown",
   "metadata": {},
   "source": [
    "<h1> Spliting Amazon Products <h1>"
   ]
  },
  {
   "cell_type": "code",
   "execution_count": 26,
   "metadata": {},
   "outputs": [
    {
     "name": "stdout",
     "output_type": "stream",
     "text": [
      "Data successfully split and stored in the database.\n"
     ]
    }
   ],
   "source": [
    "try:\n",
    "    Cleaned_amazon = pd.read_csv(r'D:\\Data engineer project.amazon\\Datasets\\Cleaned_amazon.csv')\n",
    "\n",
    "    condition = (Cleaned_amazon['rating_count'] >= 210000 ) &( Cleaned_amazon['rating']>=4.2)\n",
    "\n",
    "    Best_Seller = Cleaned_amazon[condition]\n",
    "    Products =Cleaned_amazon[~condition]\n",
    "\n",
    "    Best_Seller.to_sql('Best_Seller', engine, if_exists='replace', index=False, schema='public')\n",
    "    Products.to_sql('Products', engine, if_exists='replace', index=False, schema='public')\n",
    "\n",
    "    print(\"Data successfully split and stored in the database.\")\n",
    "except Exception as e:\n",
    "    print(f\"An error occurred: {e}\")"
   ]
  },
  {
   "cell_type": "code",
   "execution_count": 39,
   "metadata": {},
   "outputs": [],
   "source": [
    "Best_Seller.to_csv(' Best_Seller.csv', index = False, header = True, encoding = 'utf-8', sep = ',', mode = 'w')\n",
    "Products.to_csv(' Products.csv', index = False, header = True, encoding = 'utf-8', sep = ',', mode = 'w')\n"
   ]
  },
  {
   "cell_type": "markdown",
   "metadata": {},
   "source": [
    "<h1>Merge Two Files<h1>"
   ]
  },
  {
   "cell_type": "code",
   "execution_count": 35,
   "metadata": {},
   "outputs": [
    {
     "name": "stdout",
     "output_type": "stream",
     "text": [
      "                   Order ID      Date                        Status  \\\n",
      "0       405-8078784-5731545  04-30-22                     Cancelled   \n",
      "1       171-9198151-1101146  04-30-22  Shipped - Delivered to Buyer   \n",
      "2       404-0687676-7273146  04-30-22                       Shipped   \n",
      "3       403-9615377-8133951  04-30-22                     Cancelled   \n",
      "4       407-1069790-7240320  04-30-22                       Shipped   \n",
      "...                     ...       ...                           ...   \n",
      "121138  406-6001380-7673107  05-31-22                       Shipped   \n",
      "121139  402-9551604-7544318  05-31-22                       Shipped   \n",
      "121140  407-9547469-3152358  05-31-22                       Shipped   \n",
      "121141  402-6184140-0545956  05-31-22                       Shipped   \n",
      "121142  408-7436540-8728312  05-31-22                       Shipped   \n",
      "\n",
      "       Fulfilment ship-service-level  Category Size Courier Status  Qty  \\\n",
      "0        Merchant           Standard   T-shirt    S     On the Way    0   \n",
      "1        Merchant           Standard     Shirt  3XL        Shipped    1   \n",
      "2          Amazon          Expedited     Shirt   XL        Shipped    1   \n",
      "3        Merchant           Standard   Blazzer    L     On the Way    0   \n",
      "4          Amazon          Expedited  Trousers  3XL        Shipped    1   \n",
      "...           ...                ...       ...  ...            ...  ...   \n",
      "121138     Amazon          Expedited     Shirt   XL        Shipped    1   \n",
      "121139     Amazon          Expedited   T-shirt    M        Shipped    1   \n",
      "121140     Amazon          Expedited   Blazzer  XXL        Shipped    1   \n",
      "121141     Amazon          Expedited   T-shirt   XS        Shipped    1   \n",
      "121142     Amazon          Expedited   T-shirt    S        Shipped    1   \n",
      "\n",
      "       currency  ...  product_id  \\\n",
      "0           INR  ...  B07JW9H4J1   \n",
      "1           INR  ...  B098NS6PVG   \n",
      "2           INR  ...  B096MSW6CT   \n",
      "3           INR  ...  B08HDJ86NZ   \n",
      "4           INR  ...  B08CF3B7N1   \n",
      "...         ...  ...         ...   \n",
      "121138      INR  ...         NaN   \n",
      "121139      INR  ...         NaN   \n",
      "121140      INR  ...         NaN   \n",
      "121141      INR  ...         NaN   \n",
      "121142      INR  ...         NaN   \n",
      "\n",
      "                                             product_name  \\\n",
      "0       Wayona Nylon Braided USB to Lightning Fast Cha...   \n",
      "1       Ambrane Unbreakable 60W / 3A Fast Charging 1.5...   \n",
      "2       Sounce Fast Phone Charging Cable & Data Sync U...   \n",
      "3       boAt Deuce USB 300 2 in 1 Type-C & Micro USB S...   \n",
      "4       Portronics Konnect L 1.2M Fast Charging 3A 8 P...   \n",
      "...                                                   ...   \n",
      "121138                                                NaN   \n",
      "121139                                                NaN   \n",
      "121140                                                NaN   \n",
      "121141                                                NaN   \n",
      "121142                                                NaN   \n",
      "\n",
      "                                                 category  \\\n",
      "0       Computers&Accessories|Accessories&Peripherals|...   \n",
      "1       Computers&Accessories|Accessories&Peripherals|...   \n",
      "2       Computers&Accessories|Accessories&Peripherals|...   \n",
      "3       Computers&Accessories|Accessories&Peripherals|...   \n",
      "4       Computers&Accessories|Accessories&Peripherals|...   \n",
      "...                                                   ...   \n",
      "121138                                                NaN   \n",
      "121139                                                NaN   \n",
      "121140                                                NaN   \n",
      "121141                                                NaN   \n",
      "121142                                                NaN   \n",
      "\n",
      "        discounted_price_INR actual_price_INR amount_discounted  \\\n",
      "0                      399.0           1099.0             700.0   \n",
      "1                      199.0            349.0             150.0   \n",
      "2                      199.0           1899.0            1700.0   \n",
      "3                      329.0            699.0             370.0   \n",
      "4                      154.0            399.0             245.0   \n",
      "...                      ...              ...               ...   \n",
      "121138                   NaN              NaN               NaN   \n",
      "121139                   NaN              NaN               NaN   \n",
      "121140                   NaN              NaN               NaN   \n",
      "121141                   NaN              NaN               NaN   \n",
      "121142                   NaN              NaN               NaN   \n",
      "\n",
      "       discount_percentage rating  rating_count  \\\n",
      "0                     64.0    4.2       24269.0   \n",
      "1                     43.0    4.0       43994.0   \n",
      "2                     90.0    3.9        7928.0   \n",
      "3                     53.0    4.2       94363.0   \n",
      "4                     61.0    4.2       16905.0   \n",
      "...                    ...    ...           ...   \n",
      "121138                 NaN    NaN           NaN   \n",
      "121139                 NaN    NaN           NaN   \n",
      "121140                 NaN    NaN           NaN   \n",
      "121141                 NaN    NaN           NaN   \n",
      "121142                 NaN    NaN           NaN   \n",
      "\n",
      "                                                  user_id  \n",
      "0       AG3D6O4STAQKAY2UVGEUV46KN35Q,AHMY5CWJMMK5BJRBB...  \n",
      "1       AECPFYFQVRUWC3KGNLJIOREFP5LQ,AGYYVPDD7YG7FYNBX...  \n",
      "2       AGU3BBQ2V2DDAMOAKGFAWDDQ6QHA,AESFLDV2PT363T2AQ...  \n",
      "3       AEWAZDZZJLQUYVOVGBEUKSLXHQ5A,AG5HTSFRRE6NL3M5S...  \n",
      "4       AE3Q6KSUK5P75D5HFYHCRAOLODSA,AFUGIFH5ZAFXRDSZH...  \n",
      "...                                                   ...  \n",
      "121138                                                NaN  \n",
      "121139                                                NaN  \n",
      "121140                                                NaN  \n",
      "121141                                                NaN  \n",
      "121142                                                NaN  \n",
      "\n",
      "[121143 rows x 25 columns]\n"
     ]
    }
   ],
   "source": [
    "import pandas as pd\n",
    "Cleaned_Sale_Report = pd.read_csv(r'D:\\Data engineer project.amazon\\Datasets\\Cleaned_Sale_Report.csv', sep = ',')\n",
    "Cleaned_amazon = pd.read_csv(r'D:\\Data engineer project.amazon\\Datasets\\Cleaned_amazon.csv', sep = ',')\n",
    "Merged_Amazon_Sale_Report = pd.concat([Cleaned_Sale_Report, Cleaned_amazon], axis = 1)\n",
    "Merged_Amazon_Sale_Report.to_csv('Merged_Amazon_Sale_Report.csv', index = False)\n",
    "\n",
    "print(Merged_Amazon_Sale_Report)"
   ]
  },
  {
   "cell_type": "code",
   "execution_count": 38,
   "metadata": {},
   "outputs": [
    {
     "data": {
      "text/plain": [
       "462"
      ]
     },
     "execution_count": 38,
     "metadata": {},
     "output_type": "execute_result"
    }
   ],
   "source": [
    "#load file to DWH\n",
    "Cl_Merged_Amazon_Sale_Report= pd.read_csv(r'D:\\Data engineer project.amazon\\Datasets\\Cl_Merged_Amazon_Sale_Report.csv')\n",
    "Cl_Merged_Amazon_Sale_Report.to_sql('Cl_Merged_Amazon_Sale_Report', engine, if_exists='replace', index = False, schema='public')"
   ]
  }
 ],
 "metadata": {
  "kernelspec": {
   "display_name": "Python 3",
   "language": "python",
   "name": "python3"
  },
  "language_info": {
   "codemirror_mode": {
    "name": "ipython",
    "version": 3
   },
   "file_extension": ".py",
   "mimetype": "text/x-python",
   "name": "python",
   "nbconvert_exporter": "python",
   "pygments_lexer": "ipython3",
   "version": "3.11.4"
  }
 },
 "nbformat": 4,
 "nbformat_minor": 2
}
